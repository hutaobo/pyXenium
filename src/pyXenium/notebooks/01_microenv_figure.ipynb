{
 "cells": [
  {
   "cell_type": "code",
   "execution_count": null,
   "id": "initial_id",
   "metadata": {
    "collapsed": true
   },
   "outputs": [],
   "source": [
    "from pyXenium.io.xenium_gene_protein_loader import load_xenium_gene_protein\n",
    "from pyXenium.analysis import ProteinMicroEnv\n",
    "from pyXenium.vis.fig_microenv import build_microenv_figure\n",
    "\n",
    "# 1) 载入数据\n",
    "adata = load_xenium_gene_protein(\n",
    "    base_path=\"~/proj/data/Xenium_V1_Human_Kidney_FFPE_Protein\",\n",
    "    clusters_relpath=\"analysis/clustering/gene_expression_graphclust/clusters.csv\",\n",
    "    cluster_column_name=\"cluster\"\n",
    ")\n",
    "\n",
    "# 2) 运行微环境分析（如果你已运行过，可直接跳到第3步）\n",
    "anl = ProteinMicroEnv(\n",
    "    adata=adata,\n",
    "    protein_obsm=\"protein\",\n",
    "    protein_norm_obsm=\"protein_norm\",\n",
    "    cluster_key=\"cluster\",\n",
    "    spatial_obsm=\"spatial\",          # 若没有 'spatial'，会回退 x_centroid/y_centroid\n",
    "    obs_xy=(\"x_centroid\", \"y_centroid\"),\n",
    "    random_state=0\n",
    ")\n",
    "\n",
    "cluster_id = \"3\"             # 替换为你的目标簇\n",
    "protein    = \"Ki-67\"         # 替换为你的目标蛋白；比如 EPCAM/KRT8/KRT18/CD68/PDCD1 等\n",
    "res = anl.analyze(\n",
    "    cluster_id=cluster_id,\n",
    "    protein=protein,\n",
    "    group_key=\"cluster\",      # 若已有 obs['cell_type']，优先用 'cell_type'\n",
    "    radius=None,              # None 自动；也可给 40~60.0\n",
    "    permutations=999,\n",
    "    save_dir=\"./microenv_out\"\n",
    ")\n",
    "\n",
    "# 3) 生成论文图板（PDF/PNG/SVG）\n",
    "outbase = build_microenv_figure(\n",
    "    adata=adata,\n",
    "    res=res,\n",
    "    cluster_id=cluster_id,\n",
    "    protein=protein,\n",
    "    group_key=\"cluster\",      # 仅用于标题说明\n",
    "    spatial_obsm=\"spatial\",\n",
    "    obs_xy=(\"x_centroid\", \"y_centroid\"),\n",
    "    outdir=\"./figures\",\n",
    "    basename=None,            # 用默认命名 Fig_microenv_cluster{cluster_id}_{protein}\n",
    "    figsize_inches=(7.0, 5.0),\n",
    "    scatter_s=0.4,            # 点的像素大小（大样本建议 0.3~0.5）\n",
    "    scale_bar_um=100.0        # 如果坐标单位不是 μm，可改为 None 或正确单位长度\n",
    ")\n",
    "\n",
    "print(\"Saved:\", outbase + \".pdf\")\n"
   ]
  }
 ],
 "metadata": {
  "kernelspec": {
   "display_name": "Python 3",
   "language": "python",
   "name": "python3"
  },
  "language_info": {
   "codemirror_mode": {
    "name": "ipython",
    "version": 2
   },
   "file_extension": ".py",
   "mimetype": "text/x-python",
   "name": "python",
   "nbconvert_exporter": "python",
   "pygments_lexer": "ipython2",
   "version": "2.7.6"
  }
 },
 "nbformat": 4,
 "nbformat_minor": 5
}
